{
 "cells": [
  {
   "cell_type": "code",
   "execution_count": 15,
   "metadata": {},
   "outputs": [],
   "source": [
    "import csv\n",
    "import numpy as np\n",
    "import matplotlib.pyplot as plt"
   ]
  },
  {
   "cell_type": "code",
   "execution_count": 16,
   "metadata": {},
   "outputs": [],
   "source": [
    "file = open(\"ex1data2.csv\")\n",
    "fileObject = csv.reader(file)\n",
    "m = sum(1 for row in fileObject) # m = number of training examples"
   ]
  },
  {
   "cell_type": "code",
   "execution_count": 17,
   "metadata": {},
   "outputs": [],
   "source": [
    "file = open(\"ex1data2.csv\")\n",
    "fileObject=csv.reader(file)\n",
    "line = next(fileObject)\n",
    "n = len(line)-1\n",
    "\n",
    "X = np.zeros((m,n))\n",
    "Y = np.zeros((m,1))"
   ]
  },
  {
   "cell_type": "code",
   "execution_count": 18,
   "metadata": {},
   "outputs": [],
   "source": [
    "file = open(\"ex1data2.csv\")\n",
    "fileObject = csv.reader(file)\n",
    "index = 0\n",
    "for filerow in fileObject:\n",
    "    for i in range(n):\n",
    "        X[index,i]=filerow[i]\n",
    "    \n",
    "    Y[index]=filerow[-1]\n",
    "    index=index+1\n",
    "#print(X)\n",
    "#print(Y)"
   ]
  },
  {
   "cell_type": "code",
   "execution_count": 19,
   "metadata": {},
   "outputs": [],
   "source": [
    "#plt.scatter(X,Y)\n",
    "#plt.xlabel(\"Population of a city\")\n",
    "#plt.ylabel(\"Profit of a food truck in that city\")"
   ]
  },
  {
   "cell_type": "code",
   "execution_count": 20,
   "metadata": {},
   "outputs": [],
   "source": [
    "def normfScaling(X):\n",
    "    means = X.sum(axis=0)/X.shape[0]\n",
    "    X=X-means\n",
    "    sqDiff = np.square(X)\n",
    "    variance = sqDiff.sum(axis=0)/X.shape[0]\n",
    "    stdDev = np.sqrt(variance)\n",
    "    print(stdDev)\n",
    "    X= X/stdDev\n",
    "    return X\n",
    "\n",
    "    "
   ]
  },
  {
   "cell_type": "code",
   "execution_count": 21,
   "metadata": {},
   "outputs": [],
   "source": [
    "def computeCost(X,Y,theta):\n",
    "    m = X.shape[0]\n",
    "    y_predicted = np.dot(X,theta)\n",
    "    #print(y_predicted.shape)\n",
    "    squaredError = np.square(np.subtract(y_predicted,Y))\n",
    "    meanSquaredError = np.sum(squaredError)/(2*m)\n",
    "    return meanSquaredError    "
   ]
  },
  {
   "cell_type": "code",
   "execution_count": 22,
   "metadata": {},
   "outputs": [],
   "source": [
    "def calculateGradient(X,Y,theta):\n",
    "    grad=np.zeros(np.shape(theta))\n",
    "    error = np.dot(X,theta)- Y\n",
    "    \n",
    "  \n",
    "    \n",
    "    for i in range(theta.shape[0]):\n",
    "        grad[i] = sum(error*np.reshape(X[:,i],(X[:,i].shape[0],1)))/m\n",
    "    \n",
    "    return grad"
   ]
  },
  {
   "cell_type": "code",
   "execution_count": 23,
   "metadata": {},
   "outputs": [],
   "source": [
    "def updateParams(grad,theta,alpha):\n",
    "    for i in range(theta.shape[0]):\n",
    "        theta[i]=theta[i]-alpha*grad[i]\n",
    "    return theta"
   ]
  },
  {
   "cell_type": "code",
   "execution_count": 24,
   "metadata": {},
   "outputs": [],
   "source": [
    "def gradient_descent(X,Y,theta,alpha,iteration):\n",
    "    it=np.arange(iteration)\n",
    "    cost=np.empty((iteration,1),dtype=float)\n",
    "    for i in range(iteration):\n",
    "        cost[i]=computeCost(X,Y,theta)\n",
    "\n",
    "        grad = calculateGradient(X,Y,theta)\n",
    "        theta = updateParams(grad,theta,alpha)\n",
    "    return theta,it,cost"
   ]
  },
  {
   "cell_type": "code",
   "execution_count": 25,
   "metadata": {},
   "outputs": [],
   "source": [
    "def linear_regression(X,Y):\n",
    "    m=X.shape[0]\n",
    "    n=X.shape[1]\n",
    "    \n",
    "    X = normfScaling(X)\n",
    "    \n",
    "    X=np.c_[np.ones(m),X]\n",
    "    theta = np.zeros((n+1,1))\n",
    "    alpha=0.1\n",
    "    iteration=500\n",
    "    \n",
    "    theta,it,cost = gradient_descent(X,Y,theta,alpha,iteration)\n",
    "    \n",
    "    print(\"final parameters:\",theta)\n",
    "    #plt.scatter(X[:,1],Y)\n",
    "    #plt.plot(X[:,1],np.dot(X,theta),color='red')\n",
    "    plt.plot(it,cost)\n",
    "    return theta\n",
    "    "
   ]
  },
  {
   "cell_type": "code",
   "execution_count": 26,
   "metadata": {},
   "outputs": [],
   "source": [
    "def predict(X,theta):\n",
    "    y_predict = np.dot(X,theta)\n",
    "    return y_predict\n",
    "\n"
   ]
  },
  {
   "cell_type": "code",
   "execution_count": 27,
   "metadata": {},
   "outputs": [
    {
     "name": "stdout",
     "output_type": "stream",
     "text": [
      "[7.86202619e+02 7.52842809e-01]\n",
      "final parameters: [[340412.65957447]\n",
      " [109447.79645983]\n",
      " [ -6578.35484435]]\n",
      "[7.86202619e+02 7.52842809e-01]\n",
      "X new: [[ 1.         -0.44604386 -0.22609337]]\n",
      "[[293081.46433705]]\n"
     ]
    },
    {
     "data": {
      "image/png": "[encoded data removed]",
      "text/plain": [
       "<Figure size 432x288 with 1 Axes>"
      ]
     },
     "metadata": {},
     "output_type": "display_data"
    }
   ],
   "source": [
    "def meanstdv(X):\n",
    "    means = X.sum(axis=0)/X.shape[0]\n",
    "    X=X-means\n",
    "    sqDiff = np.square(X)\n",
    "    variance = sqDiff.sum(axis=0)/X.shape[0]\n",
    "    stdDev = np.sqrt(variance)\n",
    "    print(stdDev)\n",
    "    X= X/stdDev\n",
    "    return means,stdDev\n",
    "\n",
    "\n",
    "theta=linear_regression(X,Y)\n",
    "\n",
    "\n",
    "\n",
    "mean,stdDev = meanstdv(X)\n",
    "X_new =np.array([[1650,3]])\n",
    "X_new = X_new - mean\n",
    "X_new = X_new/stdDev\n",
    "m=1\n",
    "X_new=np.c_[np.ones(m),X_new]\n",
    "print(\"X new:\",X_new)\n",
    "\n",
    "\n",
    "predicted_value = predict(X_new,theta)\n",
    "print(predicted_value)"
   ]
  },
  {
   "cell_type": "code",
   "execution_count": 28,
   "metadata": {},
   "outputs": [
    {
     "name": "stdout",
     "output_type": "stream",
     "text": [
      "[[89597.9095428 ]\n",
      " [  139.21067402]\n",
      " [-8738.01911233]]\n",
      "[[293081.4643349]]\n"
     ]
    }
   ],
   "source": [
    "from numpy.linalg import inv\n",
    "m=X.shape[0]\n",
    "X=np.c_[np.ones(m),X]\n",
    "\n",
    "theta = np.dot(np.dot(inv(np.dot(X.T,X)),X.T),Y)\n",
    "print(theta)\n",
    "\n",
    "predicted_value = predict([[1,1650,3]],theta)\n",
    "print(predicted_value)\n"
   ]
  },
  {
   "cell_type": "code",
   "execution_count": null,
   "metadata": {},
   "outputs": [],
   "source": [
    "\n"
   ]
  },
  {
   "cell_type": "code",
   "execution_count": null,
   "metadata": {},
   "outputs": [],
   "source": []
  }
 ],
 "metadata": {
  "kernelspec": {
   "display_name": "Python 3",
   "language": "python",
   "name": "python3"
  },
  "language_info": {
   "codemirror_mode": {
    "name": "ipython",
    "version": 3
   },
   "file_extension": ".py",
   "mimetype": "text/x-python",
   "name": "python",
   "nbconvert_exporter": "python",
   "pygments_lexer": "ipython3",
   "version": "3.5.2"
  }
 },
 "nbformat": 4,
 "nbformat_minor": 2
}
